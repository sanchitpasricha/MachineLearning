{
 "cells": [
  {
   "cell_type": "markdown",
   "id": "513eead2",
   "metadata": {},
   "source": [
    "## Variables"
   ]
  },
  {
   "cell_type": "code",
   "execution_count": 2,
   "id": "1f10b525",
   "metadata": {},
   "outputs": [
    {
     "name": "stdout",
     "output_type": "stream",
     "text": [
      "1220\n"
     ]
    }
   ],
   "source": [
    "rent = 1220\n",
    "gas = 202.5\n",
    "groceries = 305.6\n",
    "\n",
    "print(rent)"
   ]
  },
  {
   "cell_type": "code",
   "execution_count": 3,
   "id": "a9e2ca01",
   "metadata": {},
   "outputs": [
    {
     "name": "stdout",
     "output_type": "stream",
     "text": [
      "1728.1\n"
     ]
    }
   ],
   "source": [
    "total = rent + gas + groceries\n",
    "print(total)"
   ]
  },
  {
   "cell_type": "code",
   "execution_count": 4,
   "id": "02a7c1b8",
   "metadata": {},
   "outputs": [
    {
     "name": "stdout",
     "output_type": "stream",
     "text": [
      "Expense Items : 1220 202.5 305.6\n"
     ]
    }
   ],
   "source": [
    "print(\"Expense Items :\",rent, gas, groceries)"
   ]
  },
  {
   "cell_type": "markdown",
   "id": "b890fe5a",
   "metadata": {},
   "source": [
    "## Numbers"
   ]
  },
  {
   "cell_type": "code",
   "execution_count": 9,
   "id": "227daf8f",
   "metadata": {},
   "outputs": [
    {
     "name": "stdout",
     "output_type": "stream",
     "text": [
      "0 -1 0.75 20 1 9\n"
     ]
    }
   ],
   "source": [
    "a = 12 + 34 - 46\n",
    "b = 3 - 4\n",
    "c = 3 / 4\n",
    "d = 4 * 5\n",
    "e = 11 % 2\n",
    "f = 3 ** 2\n",
    "\n",
    "print(a,b, round(c,2), d, e, f)"
   ]
  },
  {
   "cell_type": "markdown",
   "id": "9265b0db",
   "metadata": {},
   "source": [
    "## Strings"
   ]
  },
  {
   "cell_type": "code",
   "execution_count": 10,
   "id": "80b78e73",
   "metadata": {},
   "outputs": [
    {
     "data": {
      "text/plain": [
       "'i'"
      ]
     },
     "execution_count": 10,
     "metadata": {},
     "output_type": "execute_result"
    }
   ],
   "source": [
    "txt = 'ice cream'\n",
    "txt[0]"
   ]
  },
  {
   "cell_type": "code",
   "execution_count": 11,
   "id": "a39a123a",
   "metadata": {},
   "outputs": [
    {
     "data": {
      "text/plain": [
       "'ice'"
      ]
     },
     "execution_count": 11,
     "metadata": {},
     "output_type": "execute_result"
    }
   ],
   "source": [
    "txt[0:3]"
   ]
  },
  {
   "cell_type": "code",
   "execution_count": 12,
   "id": "28809ebb",
   "metadata": {},
   "outputs": [
    {
     "data": {
      "text/plain": [
       "'ice'"
      ]
     },
     "execution_count": 12,
     "metadata": {},
     "output_type": "execute_result"
    }
   ],
   "source": [
    "txt[:3]"
   ]
  },
  {
   "cell_type": "code",
   "execution_count": 13,
   "id": "c052bc95",
   "metadata": {},
   "outputs": [
    {
     "data": {
      "text/plain": [
       "'cream'"
      ]
     },
     "execution_count": 13,
     "metadata": {},
     "output_type": "execute_result"
    }
   ],
   "source": [
    "txt[4:]"
   ]
  },
  {
   "cell_type": "code",
   "execution_count": 14,
   "id": "0d281438",
   "metadata": {},
   "outputs": [
    {
     "name": "stdout",
     "output_type": "stream",
     "text": [
      "HelloWorld\n"
     ]
    }
   ],
   "source": [
    "s1 = 'Hello'\n",
    "s2 = 'World'\n",
    "print(s1+s2)"
   ]
  },
  {
   "cell_type": "code",
   "execution_count": 15,
   "id": "bad9f917",
   "metadata": {},
   "outputs": [
    {
     "data": {
      "text/plain": [
       "'25'"
      ]
     },
     "execution_count": 15,
     "metadata": {},
     "output_type": "execute_result"
    }
   ],
   "source": [
    "num = 25\n",
    "str(num)"
   ]
  },
  {
   "cell_type": "markdown",
   "id": "d72b3e11",
   "metadata": {},
   "source": [
    "## Lists"
   ]
  },
  {
   "cell_type": "code",
   "execution_count": 16,
   "id": "44c191da",
   "metadata": {},
   "outputs": [
    {
     "data": {
      "text/plain": [
       "'bread'"
      ]
     },
     "execution_count": 16,
     "metadata": {},
     "output_type": "execute_result"
    }
   ],
   "source": [
    "items = ['bread','pasta','fruits','veggies']\n",
    "items[0]"
   ]
  },
  {
   "cell_type": "code",
   "execution_count": 19,
   "id": "417da452",
   "metadata": {},
   "outputs": [
    {
     "data": {
      "text/plain": [
       "['chips', 'pasta']"
      ]
     },
     "execution_count": 19,
     "metadata": {},
     "output_type": "execute_result"
    }
   ],
   "source": [
    "items[0] = 'chips'\n",
    "items[0:2]"
   ]
  },
  {
   "cell_type": "code",
   "execution_count": 20,
   "id": "635ef25e",
   "metadata": {},
   "outputs": [
    {
     "data": {
      "text/plain": [
       "'veggies'"
      ]
     },
     "execution_count": 20,
     "metadata": {},
     "output_type": "execute_result"
    }
   ],
   "source": [
    "items[-1]"
   ]
  },
  {
   "cell_type": "code",
   "execution_count": 21,
   "id": "f80c420f",
   "metadata": {},
   "outputs": [
    {
     "data": {
      "text/plain": [
       "'butter'"
      ]
     },
     "execution_count": 21,
     "metadata": {},
     "output_type": "execute_result"
    }
   ],
   "source": [
    "items.append('butter')\n",
    "items[-1]"
   ]
  },
  {
   "cell_type": "code",
   "execution_count": 22,
   "id": "e99c1334",
   "metadata": {},
   "outputs": [
    {
     "data": {
      "text/plain": [
       "'butter'"
      ]
     },
     "execution_count": 22,
     "metadata": {},
     "output_type": "execute_result"
    }
   ],
   "source": [
    "items.insert(1,'butter')\n",
    "items[1]"
   ]
  },
  {
   "cell_type": "code",
   "execution_count": 23,
   "id": "87662fe3",
   "metadata": {},
   "outputs": [
    {
     "data": {
      "text/plain": [
       "['chips', 'butter', 'pasta', 'fruits', 'veggies', 'butter']"
      ]
     },
     "execution_count": 23,
     "metadata": {},
     "output_type": "execute_result"
    }
   ],
   "source": [
    "items"
   ]
  },
  {
   "cell_type": "code",
   "execution_count": 25,
   "id": "e68f8a74",
   "metadata": {},
   "outputs": [
    {
     "data": {
      "text/plain": [
       "['bread', 'pasta', 'fruits', 'shampoo', 'soap']"
      ]
     },
     "execution_count": 25,
     "metadata": {},
     "output_type": "execute_result"
    }
   ],
   "source": [
    "food = ['bread','pasta','fruits']\n",
    "bathroom = ['shampoo', 'soap']\n",
    "items = food + bathroom\n",
    "items"
   ]
  },
  {
   "cell_type": "code",
   "execution_count": 28,
   "id": "3f7ef40c",
   "metadata": {},
   "outputs": [
    {
     "data": {
      "text/plain": [
       "5"
      ]
     },
     "execution_count": 28,
     "metadata": {},
     "output_type": "execute_result"
    }
   ],
   "source": [
    "len(items)"
   ]
  },
  {
   "cell_type": "code",
   "execution_count": 29,
   "id": "cd61d148",
   "metadata": {},
   "outputs": [
    {
     "data": {
      "text/plain": [
       "True"
      ]
     },
     "execution_count": 29,
     "metadata": {},
     "output_type": "execute_result"
    }
   ],
   "source": [
    "\"bread\" in items"
   ]
  },
  {
   "cell_type": "markdown",
   "id": "8911f0a9",
   "metadata": {},
   "source": [
    "## If..else"
   ]
  },
  {
   "cell_type": "code",
   "execution_count": 31,
   "id": "0c657fb7",
   "metadata": {},
   "outputs": [
    {
     "name": "stdout",
     "output_type": "stream",
     "text": [
      "Enter a number20\n",
      "Number is even\n"
     ]
    }
   ],
   "source": [
    "num = input('Enter a number')\n",
    "num = int(num)\n",
    "\n",
    "if(num%2==0):\n",
    "    print(\"Number is even\")\n",
    "else:\n",
    "    print(\"Number is odd\")\n"
   ]
  },
  {
   "cell_type": "markdown",
   "id": "9d43af2c",
   "metadata": {},
   "source": [
    "## if...elif...else"
   ]
  },
  {
   "cell_type": "code",
   "execution_count": 32,
   "id": "cf88ac84",
   "metadata": {},
   "outputs": [
    {
     "name": "stdout",
     "output_type": "stream",
     "text": [
      "Enter the dish name : pol\n",
      "Chinese dish\n"
     ]
    }
   ],
   "source": [
    "indian = ['samosa', 'daal', 'naan']\n",
    "chinese = ['egg', 'pol', 'sticker']\n",
    "italian = ['pizza', 'pasta']\n",
    "\n",
    "dish = input('Enter the dish name : ')\n",
    "\n",
    "if dish in indian:\n",
    "    print(\"Indian dish\")\n",
    "elif dish in chinese:\n",
    "    print(\"Chinese dish\")\n",
    "elif dish in italian:\n",
    "    print(\"Italian dish\")\n",
    "else:\n",
    "    print(\"Sorry we dont have this here\")"
   ]
  },
  {
   "cell_type": "markdown",
   "id": "51b5afac",
   "metadata": {},
   "source": [
    "## For & While loop"
   ]
  },
  {
   "cell_type": "code",
   "execution_count": 33,
   "id": "b0b31ff8",
   "metadata": {},
   "outputs": [
    {
     "name": "stdout",
     "output_type": "stream",
     "text": [
      "10840\n"
     ]
    }
   ],
   "source": [
    "exp = [2340,2500,2100,3900]\n",
    "total = 0\n",
    "\n",
    "for item in exp:\n",
    "    total = total + item\n",
    "print(total)"
   ]
  },
  {
   "cell_type": "code",
   "execution_count": 34,
   "id": "61487782",
   "metadata": {},
   "outputs": [
    {
     "name": "stdout",
     "output_type": "stream",
     "text": [
      "1\n",
      "2\n",
      "3\n",
      "4\n",
      "5\n",
      "6\n",
      "7\n",
      "8\n",
      "9\n",
      "10\n"
     ]
    }
   ],
   "source": [
    "# printing a number bw a range \n",
    "\n",
    "for i in range(1,11):\n",
    "    print(i)"
   ]
  },
  {
   "cell_type": "code",
   "execution_count": 35,
   "id": "fcbdd383",
   "metadata": {},
   "outputs": [
    {
     "name": "stdout",
     "output_type": "stream",
     "text": [
      "Month  1 Expense:  2340\n",
      "Month  2 Expense:  2500\n",
      "Month  3 Expense:  2100\n",
      "Month  4 Expense:  3900\n",
      "Total expense is :  10840\n"
     ]
    }
   ],
   "source": [
    "# printing monthly expense with range\n",
    "\n",
    "for i in range(len(exp)):\n",
    "    print('Month ', (i+1), 'Expense: ',exp[i])\n",
    "print(\"Total expense is : \",total)\n"
   ]
  },
  {
   "cell_type": "code",
   "execution_count": 36,
   "id": "7b199b8b",
   "metadata": {},
   "outputs": [
    {
     "name": "stdout",
     "output_type": "stream",
     "text": [
      "1\n",
      "2\n",
      "3\n",
      "4\n",
      "5\n"
     ]
    }
   ],
   "source": [
    "i = 1\n",
    "while i <= 5:\n",
    "    print(i)\n",
    "    i += 1"
   ]
  },
  {
   "cell_type": "markdown",
   "id": "8c184ae1",
   "metadata": {},
   "source": [
    "## Functions"
   ]
  },
  {
   "cell_type": "code",
   "execution_count": 39,
   "id": "0834e100",
   "metadata": {},
   "outputs": [
    {
     "name": "stdout",
     "output_type": "stream",
     "text": [
      "Tom's total :  9000 \n",
      "Joe's total :  1400\n"
     ]
    }
   ],
   "source": [
    "def calculate_total(exp):\n",
    "    total = 0\n",
    "    for item in exp:\n",
    "        total = total + item\n",
    "    return total\n",
    "\n",
    "tom_exp_list = [2100, 3400, 3500]\n",
    "joe_exp_list = [200, 500, 700]\n",
    "\n",
    "tom_total = calculate_total(tom_exp_list)\n",
    "joe_total = calculate_total(joe_exp_list)\n",
    "\n",
    "print(\"Tom's total : \",tom_total, \"\\nJoe's total : \",joe_total)"
   ]
  },
  {
   "cell_type": "code",
   "execution_count": 41,
   "id": "7a19a4dc",
   "metadata": {},
   "outputs": [
    {
     "name": "stdout",
     "output_type": "stream",
     "text": [
      "Total :  11\n"
     ]
    }
   ],
   "source": [
    "def sum(a,b):\n",
    "    total = a+b\n",
    "    return total\n",
    "n = sum(5,6)\n",
    "print(\"Total : \",n)"
   ]
  },
  {
   "cell_type": "markdown",
   "id": "730582a1",
   "metadata": {},
   "source": [
    "## Dictionaries & Tuples"
   ]
  },
  {
   "cell_type": "code",
   "execution_count": 42,
   "id": "996023c3",
   "metadata": {},
   "outputs": [
    {
     "data": {
      "text/plain": [
       "{'tom': 98287398929, 'rob': 997828992001}"
      ]
     },
     "execution_count": 42,
     "metadata": {},
     "output_type": "execute_result"
    }
   ],
   "source": [
    "d = {'tom': 98287398929, 'rob': 997828992001}\n",
    "d"
   ]
  },
  {
   "cell_type": "code",
   "execution_count": 43,
   "id": "d116c9a1",
   "metadata": {},
   "outputs": [
    {
     "data": {
      "text/plain": [
       "98287398929"
      ]
     },
     "execution_count": 43,
     "metadata": {},
     "output_type": "execute_result"
    }
   ],
   "source": [
    "d[\"tom\"]"
   ]
  },
  {
   "cell_type": "code",
   "execution_count": 44,
   "id": "89a349cb",
   "metadata": {},
   "outputs": [
    {
     "data": {
      "text/plain": [
       "{'tom': 98287398929, 'rob': 997828992001, 'sam': 7847548758493}"
      ]
     },
     "execution_count": 44,
     "metadata": {},
     "output_type": "execute_result"
    }
   ],
   "source": [
    "d['sam'] = 7847548758493\n",
    "d"
   ]
  },
  {
   "cell_type": "code",
   "execution_count": 50,
   "id": "fa7aa04f",
   "metadata": {},
   "outputs": [
    {
     "name": "stdout",
     "output_type": "stream",
     "text": [
      "key:  tom value :  98287398929\n",
      "key:  rob value :  997828992001\n"
     ]
    }
   ],
   "source": [
    "for key in d:\n",
    "    print(\"key: \",key,\"value : \",d[key])\n",
    "    "
   ]
  },
  {
   "cell_type": "code",
   "execution_count": 51,
   "id": "0cdf81d6",
   "metadata": {},
   "outputs": [
    {
     "name": "stdout",
     "output_type": "stream",
     "text": [
      "Key :  tom Value :  98287398929\n",
      "Key :  rob Value :  997828992001\n"
     ]
    }
   ],
   "source": [
    "for k,v in d.items():\n",
    "    print(\"Key : \",k,\"Value : \",v)"
   ]
  },
  {
   "cell_type": "code",
   "execution_count": 53,
   "id": "0459464c",
   "metadata": {},
   "outputs": [
    {
     "data": {
      "text/plain": [
       "(5, 6)"
      ]
     },
     "execution_count": 53,
     "metadata": {},
     "output_type": "execute_result"
    }
   ],
   "source": [
    "point = (5,6)\n",
    "point"
   ]
  },
  {
   "cell_type": "markdown",
   "id": "7378e068",
   "metadata": {},
   "source": [
    "## Working with JSON & File Handling"
   ]
  },
  {
   "cell_type": "code",
   "execution_count": 56,
   "id": "5a559363",
   "metadata": {},
   "outputs": [],
   "source": [
    "book = {}\n",
    "\n",
    "book['tom'] = {\n",
    "    'Name': 'Tom',\n",
    "    'Addess': 'Red hanky street',\n",
    "    'phone': 98723498237\n",
    "}\n",
    "book['joe'] = {\n",
    "    'Name': 'Joe',\n",
    "    'Address': 'Panky street',\n",
    "    'phone': 24857238501\n",
    "}\n",
    "\n",
    "import json\n",
    "\n",
    "# dumps dumps string \n",
    "s = json.dumps(book)\n",
    "# create and opens a new txt file and write the json output inside s.\n",
    "\n",
    "with open(\"bookData.txt\",\"w\") as f:\n",
    "    f.write(s)\n",
    "# writes the json string in the file"
   ]
  },
  {
   "cell_type": "code",
   "execution_count": 61,
   "id": "b38753d2",
   "metadata": {},
   "outputs": [
    {
     "name": "stdout",
     "output_type": "stream",
     "text": [
      "{\"tom\": {\"Name\": \"Tom\", \"Addess\": \"Red hanky street\", \"phone\": 98723498237}, \"joe\": {\"Name\": \"Joe\", \"Address\": \"Panky street\", \"phone\": 24857238501}}\n"
     ]
    }
   ],
   "source": [
    "f = open('bookData.txt',\"r\")\n",
    "s = f.read()\n",
    "print(s)"
   ]
  },
  {
   "cell_type": "code",
   "execution_count": 62,
   "id": "5ddb303d",
   "metadata": {},
   "outputs": [],
   "source": [
    "book = json.loads(s)"
   ]
  },
  {
   "cell_type": "code",
   "execution_count": 63,
   "id": "09ca5929",
   "metadata": {},
   "outputs": [
    {
     "data": {
      "text/plain": [
       "{'tom': {'Name': 'Tom', 'Addess': 'Red hanky street', 'phone': 98723498237},\n",
       " 'joe': {'Name': 'Joe', 'Address': 'Panky street', 'phone': 24857238501}}"
      ]
     },
     "execution_count": 63,
     "metadata": {},
     "output_type": "execute_result"
    }
   ],
   "source": [
    "book\n"
   ]
  },
  {
   "cell_type": "code",
   "execution_count": 66,
   "id": "77dc7232",
   "metadata": {},
   "outputs": [
    {
     "data": {
      "text/plain": [
       "98723498237"
      ]
     },
     "execution_count": 66,
     "metadata": {},
     "output_type": "execute_result"
    }
   ],
   "source": [
    "book['tom']['phone']"
   ]
  },
  {
   "cell_type": "code",
   "execution_count": 68,
   "id": "2aab136c",
   "metadata": {},
   "outputs": [
    {
     "name": "stdout",
     "output_type": "stream",
     "text": [
      "{'Name': 'Tom', 'Addess': 'Red hanky street', 'phone': 98723498237}\n",
      "{'Name': 'Joe', 'Address': 'Panky street', 'phone': 24857238501}\n"
     ]
    }
   ],
   "source": [
    "for person in book:\n",
    "    print(book[person])"
   ]
  },
  {
   "cell_type": "code",
   "execution_count": 69,
   "id": "911d7102",
   "metadata": {},
   "outputs": [
    {
     "name": "stdout",
     "output_type": "stream",
     "text": [
      "test\n"
     ]
    }
   ],
   "source": [
    "# acts as an entry point\n",
    "\n",
    "if __name__ == \"__main__\":\n",
    "    print('test')"
   ]
  },
  {
   "cell_type": "markdown",
   "id": "43fe6ad8",
   "metadata": {},
   "source": [
    "## Classes and Objects"
   ]
  },
  {
   "cell_type": "code",
   "execution_count": 72,
   "id": "011f6bff",
   "metadata": {},
   "outputs": [
    {
     "name": "stdout",
     "output_type": "stream",
     "text": [
      "Tom Shoots a film\n",
      "Tom says how are you\n"
     ]
    }
   ],
   "source": [
    "class Human:\n",
    "    def __init__(self, n, o):\n",
    "        self.name = n\n",
    "        self.occupation = o\n",
    "    \n",
    "    def do_work(self):\n",
    "        if self.occupation == 'tennis player':\n",
    "            print(self.name, 'plays tennis')\n",
    "        elif self.occupation == 'actor':\n",
    "            print(self.name, 'Shoots a film')\n",
    "    \n",
    "    def speaks(self):\n",
    "        print(self.name,\"says how are you\")\n",
    "        \n",
    "tom = Human(\"Tom\",\"actor\")\n",
    "tom.do_work()\n",
    "tom.speaks()"
   ]
  }
 ],
 "metadata": {
  "kernelspec": {
   "display_name": "Python 3 (ipykernel)",
   "language": "python",
   "name": "python3"
  },
  "language_info": {
   "codemirror_mode": {
    "name": "ipython",
    "version": 3
   },
   "file_extension": ".py",
   "mimetype": "text/x-python",
   "name": "python",
   "nbconvert_exporter": "python",
   "pygments_lexer": "ipython3",
   "version": "3.10.4"
  }
 },
 "nbformat": 4,
 "nbformat_minor": 5
}
