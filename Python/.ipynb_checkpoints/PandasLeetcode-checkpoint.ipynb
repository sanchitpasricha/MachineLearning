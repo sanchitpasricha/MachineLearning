{
 "cells": [
  {
   "cell_type": "markdown",
   "id": "305b17a3",
   "metadata": {},
   "source": [
    "#### Display first three rows"
   ]
  },
  {
   "cell_type": "code",
   "execution_count": 1,
   "id": "19a780fc",
   "metadata": {},
   "outputs": [],
   "source": [
    "import pandas as pd\n",
    "\n",
    "def selectFirstRows(employees: pd.DataFrame) -> pd.DataFrame:\n",
    "    return employees.iloc[0:3]"
   ]
  },
  {
   "cell_type": "markdown",
   "id": "3b805cc1",
   "metadata": {},
   "source": [
    "#### Create a new column with merging newly created list"
   ]
  },
  {
   "cell_type": "code",
   "execution_count": 3,
   "id": "52ac59d8",
   "metadata": {},
   "outputs": [],
   "source": [
    "import pandas as pd\n",
    "\n",
    "def createBonusColumn(employees: pd.DataFrame) -> pd.DataFrame:\n",
    "    bonus = []\n",
    "    for index, row in employees.iterrows():\n",
    "        bonus.append([row['salary'],row['salary']*2])\n",
    "    \n",
    "    df = pd.DataFrame(bonus,columns=['salary','bonus'])\n",
    "    result = pd.merge(employees, df, on='salary', how='inner')\n",
    "    return result"
   ]
  },
  {
   "cell_type": "markdown",
   "id": "385b01ab",
   "metadata": {},
   "source": [
    "#### Create a DataFrame from 2D list"
   ]
  },
  {
   "cell_type": "code",
   "execution_count": null,
   "id": "c92106c3",
   "metadata": {},
   "outputs": [],
   "source": [
    "import pandas as pd\n",
    "\n",
    "def createDataframe(student_data: List[List[int]]) -> pd.DataFrame:\n",
    "    column_names = ['student_id', 'age']\n",
    "\n",
    "    df = pd.DataFrame(student_data, columns=column_names)\n",
    "    return df"
   ]
  },
  {
   "cell_type": "markdown",
   "id": "309965a6",
   "metadata": {},
   "source": [
    "#### Get size of DataFrame"
   ]
  },
  {
   "cell_type": "code",
   "execution_count": null,
   "id": "dd6e59cf",
   "metadata": {},
   "outputs": [],
   "source": [
    "import pandas as pd\n",
    "\n",
    "def getDataframeSize(players: pd.DataFrame) -> List[int]:\n",
    "    size = list(players.shape)\n",
    "    return size"
   ]
  },
  {
   "cell_type": "markdown",
   "id": "72d784b1",
   "metadata": {},
   "source": [
    "#### Select Data "
   ]
  },
  {
   "cell_type": "code",
   "execution_count": null,
   "id": "3bac74e5",
   "metadata": {},
   "outputs": [],
   "source": [
    "import pandas as pd\n",
    "\n",
    "def selectData(students: pd.DataFrame) -> pd.DataFrame:\n",
    "    selected_data = students[students['student_id'] == 101] \n",
    "    selected_data = selected_data.drop('student_id',axis=1) # axis = 1 for column, 0 for rows\n",
    "    return selected_data"
   ]
  },
  {
   "cell_type": "markdown",
   "id": "ff2c9ca8",
   "metadata": {},
   "source": [
    "#### Drop Duplicate rows"
   ]
  },
  {
   "cell_type": "code",
   "execution_count": null,
   "id": "e263ce38",
   "metadata": {},
   "outputs": [],
   "source": [
    "import pandas as pd\n",
    "\n",
    "def dropDuplicateEmails(customers: pd.DataFrame) -> pd.DataFrame:\n",
    "    result = customers.drop_duplicates(subset=['email'])\n",
    "    return result"
   ]
  },
  {
   "cell_type": "markdown",
   "id": "86ed0037",
   "metadata": {},
   "source": [
    "#### Drop missing Data"
   ]
  },
  {
   "cell_type": "code",
   "execution_count": null,
   "id": "1f6b8587",
   "metadata": {},
   "outputs": [],
   "source": [
    "import pandas as pd\n",
    "\n",
    "def dropMissingData(students: pd.DataFrame) -> pd.DataFrame:\n",
    "    result = students.dropna(subset=['name'])\n",
    "    return result"
   ]
  },
  {
   "cell_type": "markdown",
   "id": "ec7850a9",
   "metadata": {},
   "source": [
    "#### Renaming table headings"
   ]
  },
  {
   "cell_type": "code",
   "execution_count": null,
   "id": "4ca3157d",
   "metadata": {},
   "outputs": [],
   "source": [
    "import pandas as pd\n",
    "\n",
    "def renameColumns(students: pd.DataFrame) -> pd.DataFrame:\n",
    "    column_names = {'id':'student_id', 'first':'first_name', 'last':'last_name', 'age':'age_in_years'}\n",
    "    students = students.rename(columns=column_names)\n",
    "    return students"
   ]
  },
  {
   "cell_type": "markdown",
   "id": "fdecb919",
   "metadata": {},
   "source": [
    "#### Change Datatype"
   ]
  },
  {
   "cell_type": "code",
   "execution_count": null,
   "id": "9c39ed8e",
   "metadata": {},
   "outputs": [],
   "source": [
    "import pandas as pd\n",
    "\n",
    "def changeDatatype(students: pd.DataFrame) -> pd.DataFrame:\n",
    "    students['grade'] = students['grade'].astype(int)\n",
    "    return students"
   ]
  },
  {
   "cell_type": "markdown",
   "id": "61772882",
   "metadata": {},
   "source": [
    "#### Fill missing data"
   ]
  },
  {
   "cell_type": "code",
   "execution_count": null,
   "id": "e5517ccf",
   "metadata": {},
   "outputs": [],
   "source": [
    "import pandas as pd\n",
    "\n",
    "def fillMissingValues(products: pd.DataFrame) -> pd.DataFrame:\n",
    "    products['quantity'] = products['quantity'].fillna(0)\n",
    "    return products"
   ]
  },
  {
   "cell_type": "markdown",
   "id": "db6683aa",
   "metadata": {},
   "source": [
    "#### Concatenate 2 Dataframes"
   ]
  },
  {
   "cell_type": "code",
   "execution_count": null,
   "id": "9b758694",
   "metadata": {},
   "outputs": [],
   "source": [
    "import pandas as pd\n",
    "\n",
    "def concatenateTables(df1: pd.DataFrame, df2: pd.DataFrame) -> pd.DataFrame:\n",
    "    result = pd.concat([df1,df2])\n",
    "    return result"
   ]
  },
  {
   "cell_type": "markdown",
   "id": "55400941",
   "metadata": {},
   "source": [
    "#### Creating pivot of Dataframe"
   ]
  },
  {
   "cell_type": "code",
   "execution_count": null,
   "id": "09762151",
   "metadata": {},
   "outputs": [],
   "source": [
    "import pandas as pd\n",
    "\n",
    "def pivotTable(weather: pd.DataFrame) -> pd.DataFrame:\n",
    "    pivot_table = weather.pivot(index='month', columns='city', values='temperature')\n",
    "    return pivot_table"
   ]
  },
  {
   "cell_type": "markdown",
   "id": "345dab6b",
   "metadata": {},
   "source": [
    "#### Melting a dataframe"
   ]
  },
  {
   "cell_type": "code",
   "execution_count": null,
   "id": "8e0a7389",
   "metadata": {},
   "outputs": [],
   "source": [
    "import pandas as pd\n",
    "\n",
    "def meltTable(report: pd.DataFrame) -> pd.DataFrame:\n",
    "    result = pd.melt(report, id_vars=['product'], var_name = 'quarter', value_name='sales')\n",
    "    return result"
   ]
  },
  {
   "cell_type": "markdown",
   "id": "a8cac795",
   "metadata": {},
   "source": [
    "#### Method Chaining"
   ]
  },
  {
   "cell_type": "code",
   "execution_count": 1,
   "id": "58580fe6",
   "metadata": {},
   "outputs": [],
   "source": [
    "import pandas as pd\n",
    "\n",
    "def findHeavyAnimals(animals: pd.DataFrame) -> pd.DataFrame:\n",
    "    return animals[\n",
    "        animals['weight'] > 100\n",
    "    ].sort_values(\n",
    "        ['weight'], ascending=False,\n",
    "    )[['name']]"
   ]
  }
 ],
 "metadata": {
  "kernelspec": {
   "display_name": "Python 3 (ipykernel)",
   "language": "python",
   "name": "python3"
  },
  "language_info": {
   "codemirror_mode": {
    "name": "ipython",
    "version": 3
   },
   "file_extension": ".py",
   "mimetype": "text/x-python",
   "name": "python",
   "nbconvert_exporter": "python",
   "pygments_lexer": "ipython3",
   "version": "3.10.4"
  }
 },
 "nbformat": 4,
 "nbformat_minor": 5
}
