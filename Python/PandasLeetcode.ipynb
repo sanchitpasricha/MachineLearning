{
 "cells": [
  {
   "cell_type": "markdown",
   "id": "305b17a3",
   "metadata": {},
   "source": [
    "#### Display first three rows"
   ]
  },
  {
   "cell_type": "code",
   "execution_count": 1,
   "id": "19a780fc",
   "metadata": {},
   "outputs": [],
   "source": [
    "import pandas as pd\n",
    "\n",
    "def selectFirstRows(employees: pd.DataFrame) -> pd.DataFrame:\n",
    "    return employees.iloc[0:3]"
   ]
  },
  {
   "cell_type": "markdown",
   "id": "3b805cc1",
   "metadata": {},
   "source": [
    "#### Create a new column with merging newly created list"
   ]
  },
  {
   "cell_type": "code",
   "execution_count": 3,
   "id": "52ac59d8",
   "metadata": {},
   "outputs": [],
   "source": [
    "import pandas as pd\n",
    "\n",
    "def createBonusColumn(employees: pd.DataFrame) -> pd.DataFrame:\n",
    "    bonus = []\n",
    "    for index, row in employees.iterrows():\n",
    "        bonus.append([row['salary'],row['salary']*2])\n",
    "    \n",
    "    df = pd.DataFrame(bonus,columns=['salary','bonus'])\n",
    "    result = pd.merge(employees, df, on='salary', how='inner')\n",
    "    return result"
   ]
  }
 ],
 "metadata": {
  "kernelspec": {
   "display_name": "Python 3 (ipykernel)",
   "language": "python",
   "name": "python3"
  },
  "language_info": {
   "codemirror_mode": {
    "name": "ipython",
    "version": 3
   },
   "file_extension": ".py",
   "mimetype": "text/x-python",
   "name": "python",
   "nbconvert_exporter": "python",
   "pygments_lexer": "ipython3",
   "version": "3.10.4"
  }
 },
 "nbformat": 4,
 "nbformat_minor": 5
}
